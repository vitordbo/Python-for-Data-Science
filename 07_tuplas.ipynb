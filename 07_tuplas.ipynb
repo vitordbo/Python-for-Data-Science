{
 "cells": [
  {
   "cell_type": "markdown",
   "metadata": {},
   "source": [
    "## **Python Essencial para Data Science**\n",
    "**Prof. Dr. Samuel Martins (@hisamuka @xavecoding)** <br/>\n",
    "xavecoding: https://youtube.com/c/xavecoding <br/><br/>\n",
    "\n",
    "<a rel=\"license\" href=\"http://creativecommons.org/licenses/by-nc-sa/4.0/\"><img alt=\"Creative Commons License\" style=\"border-width:0\" src=\"https://i.creativecommons.org/l/by-nc-sa/4.0/88x31.png\" /></a><br />This work is licensed under a <a rel=\"license\" href=\"http://creativecommons.org/licenses/by-nc-sa/4.0/\">Creative Commons Attribution-NonCommercial-ShareAlike 4.0 International License</a>."
   ]
  },
  {
   "cell_type": "markdown",
   "metadata": {},
   "source": [
    "## Tuplas\n",
    "Tuplas são estruturas muito semelhantes às listas. Eles diferem de duas maneiras:"
   ]
  },
  {
   "cell_type": "markdown",
   "metadata": {},
   "source": [
    "1. Elas usam _parênteses_ ao invés de _colchetes_:"
   ]
  },
  {
   "cell_type": "code",
   "execution_count": 1,
   "metadata": {},
   "outputs": [
    {
     "data": {
      "text/plain": [
       "(1, 2, 3)"
      ]
     },
     "execution_count": 1,
     "metadata": {},
     "output_type": "execute_result"
    }
   ],
   "source": [
    "tupla_1 = (1, 2 ,3)\n",
    "tupla_1"
   ]
  },
  {
   "cell_type": "code",
   "execution_count": 3,
   "metadata": {},
   "outputs": [
    {
     "name": "stdout",
     "output_type": "stream",
     "text": [
      "<class 'tuple'>\n"
     ]
    }
   ],
   "source": [
    "print(type(tupla_1))"
   ]
  },
  {
   "cell_type": "code",
   "execution_count": 4,
   "metadata": {},
   "outputs": [],
   "source": [
    "tupla_2 = 1,2,3\n"
   ]
  },
  {
   "cell_type": "code",
   "execution_count": 5,
   "metadata": {},
   "outputs": [
    {
     "name": "stdout",
     "output_type": "stream",
     "text": [
      "(1, 2, 3)\n",
      "<class 'tuple'>\n"
     ]
    }
   ],
   "source": [
    "print(tupla_2)\n",
    "print(type(tupla_2))"
   ]
  },
  {
   "cell_type": "code",
   "execution_count": 6,
   "metadata": {},
   "outputs": [
    {
     "name": "stdout",
     "output_type": "stream",
     "text": [
      "1\n",
      "2\n",
      "3\n"
     ]
    }
   ],
   "source": [
    "# relembrando atribuição de várias ao mesmo tempo\n",
    "x, y, z = 1, 2, 3\n",
    "print(x)\n",
    "print(y)\n",
    "print(z)"
   ]
  },
  {
   "cell_type": "code",
   "execution_count": 7,
   "metadata": {},
   "outputs": [
    {
     "name": "stdout",
     "output_type": "stream",
     "text": [
      "1\n",
      "2\n",
      "3\n"
     ]
    }
   ],
   "source": [
    "a, b , c = tupla_1 # 'desempacota' os elementos da tupla_1 nas variaveis a, b, c\n",
    "print(a)\n",
    "print(b)\n",
    "print(c)"
   ]
  },
  {
   "cell_type": "markdown",
   "metadata": {},
   "source": [
    "2. Elas **não** podem ser modificadas (**imutáveis**)"
   ]
  },
  {
   "cell_type": "code",
   "execution_count": 8,
   "metadata": {},
   "outputs": [
    {
     "data": {
      "text/plain": [
       "(1, 2, 3)"
      ]
     },
     "execution_count": 8,
     "metadata": {},
     "output_type": "execute_result"
    }
   ],
   "source": [
    "tupla_1"
   ]
  },
  {
   "cell_type": "code",
   "execution_count": 9,
   "metadata": {},
   "outputs": [
    {
     "ename": "TypeError",
     "evalue": "'tuple' object does not support item assignment",
     "output_type": "error",
     "traceback": [
      "\u001b[1;31m---------------------------------------------------------------------------\u001b[0m",
      "\u001b[1;31mTypeError\u001b[0m                                 Traceback (most recent call last)",
      "\u001b[1;32md:\\Users\\vitor\\git\\Python-for-Data-Science\\07_tuplas.ipynb Cell 12\u001b[0m line \u001b[0;36m1\n\u001b[1;32m----> <a href='vscode-notebook-cell:/d%3A/Users/vitor/git/Python-for-Data-Science/07_tuplas.ipynb#X25sZmlsZQ%3D%3D?line=0'>1</a>\u001b[0m tupla_1[\u001b[39m0\u001b[39;49m] \u001b[39m=\u001b[39m \u001b[39m10\u001b[39m\n",
      "\u001b[1;31mTypeError\u001b[0m: 'tuple' object does not support item assignment"
     ]
    }
   ],
   "source": [
    "tupla_1[0] = 10"
   ]
  },
  {
   "cell_type": "markdown",
   "metadata": {},
   "source": [
    "#### Convertendo uma lista em tuplas e vice-versa"
   ]
  },
  {
   "cell_type": "code",
   "execution_count": 10,
   "metadata": {},
   "outputs": [
    {
     "name": "stdout",
     "output_type": "stream",
     "text": [
      "['Mercúrio', 'Vênus', 'Terra', 'Marte', 'Júpiter', 'Saturno', 'Urano', 'Netuno']\n",
      "<class 'list'>\n"
     ]
    }
   ],
   "source": [
    "planetas = ['Mercúrio','Vênus','Terra', 'Marte', 'Júpiter', 'Saturno', 'Urano', 'Netuno']\n",
    "print(planetas)\n",
    "print(type(planetas))"
   ]
  },
  {
   "cell_type": "code",
   "execution_count": 11,
   "metadata": {},
   "outputs": [
    {
     "name": "stdout",
     "output_type": "stream",
     "text": [
      "('Mercúrio', 'Vênus', 'Terra', 'Marte', 'Júpiter', 'Saturno', 'Urano', 'Netuno')\n",
      "<class 'tuple'>\n"
     ]
    }
   ],
   "source": [
    "planetas_tupla = tuple(planetas)\n",
    "print(planetas_tupla)\n",
    "print(type(planetas_tupla))"
   ]
  },
  {
   "cell_type": "code",
   "execution_count": 12,
   "metadata": {},
   "outputs": [
    {
     "name": "stdout",
     "output_type": "stream",
     "text": [
      "['MERCÚRIO', 'Vênus', 'Terra', 'Marte', 'Júpiter', 'Saturno', 'Urano', 'Netuno']\n",
      "('Mercúrio', 'Vênus', 'Terra', 'Marte', 'Júpiter', 'Saturno', 'Urano', 'Netuno')\n"
     ]
    }
   ],
   "source": [
    "planetas[0] = planetas[0].upper()\n",
    "print(planetas)\n",
    "print(planetas_tupla)"
   ]
  },
  {
   "cell_type": "code",
   "execution_count": 13,
   "metadata": {},
   "outputs": [
    {
     "ename": "TypeError",
     "evalue": "'tuple' object does not support item assignment",
     "output_type": "error",
     "traceback": [
      "\u001b[1;31m---------------------------------------------------------------------------\u001b[0m",
      "\u001b[1;31mTypeError\u001b[0m                                 Traceback (most recent call last)",
      "\u001b[1;32md:\\Users\\vitor\\git\\Python-for-Data-Science\\07_tuplas.ipynb Cell 17\u001b[0m line \u001b[0;36m1\n\u001b[1;32m----> <a href='vscode-notebook-cell:/d%3A/Users/vitor/git/Python-for-Data-Science/07_tuplas.ipynb#X31sZmlsZQ%3D%3D?line=0'>1</a>\u001b[0m planetas_tupla[\u001b[39m0\u001b[39;49m] \u001b[39m=\u001b[39m planetas_tupla[\u001b[39m0\u001b[39m]\u001b[39m.\u001b[39mupper()\n\u001b[0;32m      <a href='vscode-notebook-cell:/d%3A/Users/vitor/git/Python-for-Data-Science/07_tuplas.ipynb#X31sZmlsZQ%3D%3D?line=1'>2</a>\u001b[0m \u001b[39mprint\u001b[39m(planetas)\n\u001b[0;32m      <a href='vscode-notebook-cell:/d%3A/Users/vitor/git/Python-for-Data-Science/07_tuplas.ipynb#X31sZmlsZQ%3D%3D?line=2'>3</a>\u001b[0m \u001b[39mprint\u001b[39m(planetas_tupla)\n",
      "\u001b[1;31mTypeError\u001b[0m: 'tuple' object does not support item assignment"
     ]
    }
   ],
   "source": [
    "planetas_tupla[0] = planetas_tupla[0].upper()\n",
    "print(planetas)\n",
    "print(planetas_tupla)"
   ]
  },
  {
   "cell_type": "code",
   "execution_count": 14,
   "metadata": {},
   "outputs": [
    {
     "name": "stdout",
     "output_type": "stream",
     "text": [
      "[1, 2, 3]\n",
      "(1, 2, 3)\n"
     ]
    }
   ],
   "source": [
    "# cconvertendo uma tupla para lista\n",
    "lista_1 = list(tupla_1)\n",
    "print(lista_1)\n",
    "print(tupla_1)"
   ]
  },
  {
   "cell_type": "markdown",
   "metadata": {},
   "source": [
    "### Descompactando tuplas"
   ]
  },
  {
   "cell_type": "code",
   "execution_count": 16,
   "metadata": {},
   "outputs": [
    {
     "name": "stdout",
     "output_type": "stream",
     "text": [
      "(5.0, 10, 2)\n",
      "5.0\n",
      "10\n",
      "2\n",
      "(5.0, 10, 2)\n",
      "6.0\n",
      "10\n",
      "2\n"
     ]
    }
   ],
   "source": [
    "notas_semestre = (5.0, 10, 2)\n",
    "\n",
    "prova_1, prova_2, projeto = notas_semestre\n",
    "\n",
    "print(notas_semestre)\n",
    "print(prova_1)\n",
    "print(prova_2)\n",
    "print(projeto)\n",
    "\n",
    "prova_1 += 1\n",
    "\n",
    "print(notas_semestre)\n",
    "print(prova_1)\n",
    "print(prova_2)\n",
    "print(projeto)"
   ]
  },
  {
   "cell_type": "markdown",
   "metadata": {},
   "source": [
    "### Zip: Compactando listas"
   ]
  },
  {
   "cell_type": "code",
   "execution_count": 17,
   "metadata": {},
   "outputs": [
    {
     "name": "stdout",
     "output_type": "stream",
     "text": [
      "['Onix', 'Gol', 'Uno']\n",
      "[50000, 30000, 20000]\n"
     ]
    }
   ],
   "source": [
    "carros = ['Onix', 'Gol', 'Uno']\n",
    "precos = [50000, 30000, 20000]\n",
    "\n",
    "print(carros)\n",
    "print(precos)"
   ]
  },
  {
   "cell_type": "code",
   "execution_count": 18,
   "metadata": {},
   "outputs": [
    {
     "data": {
      "text/plain": [
       "<zip at 0x2139189eac0>"
      ]
     },
     "execution_count": 18,
     "metadata": {},
     "output_type": "execute_result"
    }
   ],
   "source": [
    "carros_com_precos_zip = zip(carros, precos)\n",
    "carros_com_precos_zip"
   ]
  },
  {
   "cell_type": "code",
   "execution_count": 19,
   "metadata": {},
   "outputs": [
    {
     "data": {
      "text/plain": [
       "[('Onix', 50000), ('Gol', 30000), ('Uno', 20000)]"
      ]
     },
     "execution_count": 19,
     "metadata": {},
     "output_type": "execute_result"
    }
   ],
   "source": [
    "carros_com_precos = list(carros_com_precos_zip)\n",
    "carros_com_precos"
   ]
  },
  {
   "cell_type": "code",
   "execution_count": 20,
   "metadata": {},
   "outputs": [
    {
     "name": "stdout",
     "output_type": "stream",
     "text": [
      "('Onix', 50000)\n",
      "('Gol', 30000)\n",
      "('Uno', 20000)\n"
     ]
    }
   ],
   "source": [
    "for x in carros_com_precos:\n",
    "    print(x)"
   ]
  },
  {
   "cell_type": "code",
   "execution_count": 21,
   "metadata": {},
   "outputs": [
    {
     "name": "stdout",
     "output_type": "stream",
     "text": [
      "Onix\n",
      "50000\n",
      "Gol\n",
      "30000\n",
      "Uno\n",
      "20000\n"
     ]
    }
   ],
   "source": [
    "for nome, preco in carros_com_precos:\n",
    "    print(nome)\n",
    "    print(preco)"
   ]
  },
  {
   "cell_type": "code",
   "execution_count": 22,
   "metadata": {},
   "outputs": [
    {
     "name": "stdout",
     "output_type": "stream",
     "text": [
      "Onix\n",
      "50000\n",
      "Gol\n",
      "30000\n",
      "Uno\n",
      "20000\n"
     ]
    }
   ],
   "source": [
    "carros_com_precos_zip = zip(carros, precos)\n",
    "\n",
    "for nome, preco in carros_com_precos_zip:\n",
    "    print(nome)\n",
    "    print(preco)"
   ]
  }
 ],
 "metadata": {
  "kernelspec": {
   "display_name": "Python 3",
   "language": "python",
   "name": "python3"
  },
  "language_info": {
   "codemirror_mode": {
    "name": "ipython",
    "version": 3
   },
   "file_extension": ".py",
   "mimetype": "text/x-python",
   "name": "python",
   "nbconvert_exporter": "python",
   "pygments_lexer": "ipython3",
   "version": "3.11.4"
  }
 },
 "nbformat": 4,
 "nbformat_minor": 4
}
