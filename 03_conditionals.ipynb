{
 "cells": [
  {
   "cell_type": "markdown",
   "metadata": {},
   "source": [
    "## **Python Essencial para Data Science**\n",
    "**Prof. Dr. Samuel Martins (@hisamuka @xavecoding)** <br/>\n",
    "xavecoding: https://youtube.com/c/xavecoding <br/><br/>\n",
    "\n",
    "<a rel=\"license\" href=\"http://creativecommons.org/licenses/by-nc-sa/4.0/\"><img alt=\"Creative Commons License\" style=\"border-width:0\" src=\"https://i.creativecommons.org/l/by-nc-sa/4.0/88x31.png\" /></a><br />This work is licensed under a <a rel=\"license\" href=\"http://creativecommons.org/licenses/by-nc-sa/4.0/\">Creative Commons Attribution-NonCommercial-ShareAlike 4.0 International License</a>."
   ]
  },
  {
   "cell_type": "markdown",
   "metadata": {},
   "source": [
    "## Condicionais\n",
    "\n",
    "### Estrutura básica de um IF:\n",
    "<code>\n",
    "if condition 01:\n",
    "    Instruction 01\n",
    "    Instruction 02\n",
    "else:\n",
    "    Instruction 03\n",
    "    Instruction 04\n",
    "<code>"
   ]
  },
  {
   "cell_type": "markdown",
   "metadata": {},
   "source": [
    "Note que as **identações** definem o _escopo_ de cada opção resultante do IF.\n",
    "\n",
    "As condições devem resultar um valor boolean (True ou False)."
   ]
  },
  {
   "cell_type": "markdown",
   "metadata": {},
   "source": [
    "<code>\n",
    "if condition 01:\n",
    "    Instruction 01\n",
    "    Instruction 02\n",
    "elif (condition 02):\n",
    "    Instruction 03\n",
    "    Instruction 04\n",
    "else:\n",
    "    Instruction 05\n",
    "    Instruction 06\n",
    "<code>"
   ]
  },
  {
   "cell_type": "markdown",
   "metadata": {},
   "source": [
    "### Operadores de Comparação\n",
    "\n",
    "| Operação      | Descrição                           || Operação      | Descrição                           |\n",
    "|---------------|-------------------------------------||---------------|-------------------------------------|\n",
    "| ``a == b``    | ``a`` igual a ``b``                 || ``a != b``    | ``a`` diferente de ``b``            |\n",
    "| ``a < b``     | ``a`` menor do que ``b``            || ``a > b``     | ``a`` maior do que ``b``            |\n",
    "| ``a <= b``    | ``a`` menor do que ou igual a ``b`` || ``a >= b``    | ``a`` maior do que ou igual a ``b`` |"
   ]
  },
  {
   "cell_type": "code",
   "execution_count": 3,
   "metadata": {},
   "outputs": [
    {
     "name": "stdout",
     "output_type": "stream",
     "text": [
      "Menor de idade\n"
     ]
    }
   ],
   "source": [
    "idade = 16 \n",
    "\n",
    "if idade < 18:\n",
    "    print('Menor de idade')\n",
    "else:\n",
    "    print('Maior de idade')"
   ]
  },
  {
   "cell_type": "markdown",
   "metadata": {},
   "source": [
    "Opcionalmente, podemos usar _parênteses_ nas condições."
   ]
  },
  {
   "cell_type": "code",
   "execution_count": 4,
   "metadata": {},
   "outputs": [
    {
     "name": "stdout",
     "output_type": "stream",
     "text": [
      "Em recuperação\n"
     ]
    }
   ],
   "source": [
    "# reprovado < 4.0\n",
    "# recuperação [4.0, 6.0]\n",
    "# aprovado >= 6\n",
    "\n",
    "media_final = 5.0\n",
    "\n",
    "if (media_final < 4.0):\n",
    "    print('Reprovado')\n",
    "elif (media_final) < 6.0:\n",
    "    print('Em recuperação')\n",
    "else: \n",
    "    print('Aprovado')"
   ]
  },
  {
   "cell_type": "markdown",
   "metadata": {},
   "source": [
    "### Comparando Booleans"
   ]
  },
  {
   "cell_type": "code",
   "execution_count": 5,
   "metadata": {},
   "outputs": [
    {
     "data": {
      "text/plain": [
       "(True, False)"
      ]
     },
     "execution_count": 5,
     "metadata": {},
     "output_type": "execute_result"
    }
   ],
   "source": [
    "True, False"
   ]
  },
  {
   "cell_type": "code",
   "execution_count": 6,
   "metadata": {},
   "outputs": [
    {
     "data": {
      "text/plain": [
       "bool"
      ]
     },
     "execution_count": 6,
     "metadata": {},
     "output_type": "execute_result"
    }
   ],
   "source": [
    "type(True)"
   ]
  },
  {
   "cell_type": "code",
   "execution_count": 7,
   "metadata": {},
   "outputs": [
    {
     "name": "stdout",
     "output_type": "stream",
     "text": [
      "Aluno está matriculado\n"
     ]
    }
   ],
   "source": [
    "aluno_esta_matriculado = True\n",
    "\n",
    "if aluno_esta_matriculado is True:\n",
    "    print('Aluno está matriculado')"
   ]
  },
  {
   "cell_type": "code",
   "execution_count": 8,
   "metadata": {},
   "outputs": [
    {
     "name": "stdout",
     "output_type": "stream",
     "text": [
      "Aluno está matriculado\n"
     ]
    }
   ],
   "source": [
    "if aluno_esta_matriculado:\n",
    "        print('Aluno está matriculado')"
   ]
  },
  {
   "cell_type": "code",
   "execution_count": 9,
   "metadata": {},
   "outputs": [
    {
     "name": "stdout",
     "output_type": "stream",
     "text": [
      "Aluno não é jedi\n"
     ]
    }
   ],
   "source": [
    "aluno_eh_jedi = False\n",
    "\n",
    "if aluno_eh_jedi is False:\n",
    "    print('Aluno não é jedi')"
   ]
  },
  {
   "cell_type": "code",
   "execution_count": 10,
   "metadata": {},
   "outputs": [
    {
     "name": "stdout",
     "output_type": "stream",
     "text": [
      "Aluno não é jedi\n"
     ]
    }
   ],
   "source": [
    "\n",
    "if not aluno_eh_jedi:\n",
    "    print('Aluno não é jedi')"
   ]
  },
  {
   "cell_type": "markdown",
   "metadata": {},
   "source": [
    "### Combinando condições com `and` e `or`"
   ]
  },
  {
   "cell_type": "code",
   "execution_count": null,
   "metadata": {},
   "outputs": [],
   "source": [
    "## se você veio da linguagem C/C++, Java, entre outras, você conhece essa anotação \n",
    "# and ==> &&\n",
    "# or ==> || \n",
    "# not ==> !"
   ]
  },
  {
   "cell_type": "code",
   "execution_count": 11,
   "metadata": {},
   "outputs": [
    {
     "data": {
      "text/plain": [
       "5.0"
      ]
     },
     "execution_count": 11,
     "metadata": {},
     "output_type": "execute_result"
    }
   ],
   "source": [
    "media_final"
   ]
  },
  {
   "cell_type": "code",
   "execution_count": 14,
   "metadata": {},
   "outputs": [
    {
     "name": "stdout",
     "output_type": "stream",
     "text": [
      "Em recuperação\n",
      "Em recuperação\n",
      "Em recuperação\n"
     ]
    }
   ],
   "source": [
    "if media_final >= 4.0 and media_final < 6.0:\n",
    "    print('Em recuperação')\n",
    "\n",
    "if(media_final >= 4.0) and (media_final < 6.0):\n",
    "    print('Em recuperação')\n",
    "\n",
    "if((media_final >= 4.0) and (media_final < 6.0)):\n",
    "    print('Em recuperação')"
   ]
  },
  {
   "cell_type": "code",
   "execution_count": 15,
   "metadata": {},
   "outputs": [
    {
     "name": "stdout",
     "output_type": "stream",
     "text": [
      "Não foi para recuperação\n"
     ]
    }
   ],
   "source": [
    "media_final = 3\n",
    "\n",
    "if media_final < 4.0 or media_final >= 6.0:\n",
    "    print('Não foi para recuperação')"
   ]
  },
  {
   "cell_type": "code",
   "execution_count": 16,
   "metadata": {},
   "outputs": [
    {
     "name": "stdout",
     "output_type": "stream",
     "text": [
      "Um jedi foi reprovado direto\n"
     ]
    }
   ],
   "source": [
    "media_final = 3.0\n",
    "aluno_eh_jedi = True\n",
    "\n",
    "if media_final < 4.0 and aluno_eh_jedi:\n",
    "    print('Um jedi foi reprovado direto')"
   ]
  },
  {
   "cell_type": "markdown",
   "metadata": {},
   "source": [
    "### Armazenando booleans resultantes de condicionais"
   ]
  },
  {
   "cell_type": "code",
   "execution_count": 18,
   "metadata": {},
   "outputs": [
    {
     "name": "stdout",
     "output_type": "stream",
     "text": [
      "Foi aprovado? True\n"
     ]
    }
   ],
   "source": [
    "media_final = 7.0\n",
    "\n",
    "foi_arpovado = media_final >= 6.0\n",
    "# foi_arpovado = (media_final >= 6.0) => pode usar ()\n",
    "\n",
    "\n",
    "print(f'Foi aprovado? {foi_arpovado}')"
   ]
  },
  {
   "cell_type": "code",
   "execution_count": 20,
   "metadata": {},
   "outputs": [
    {
     "name": "stdout",
     "output_type": "stream",
     "text": [
      "foi pra recuperação? True\n"
     ]
    }
   ],
   "source": [
    "media_final = 5.0\n",
    "\n",
    "foi_pra_recuperacao = (media_final >= 4.0) or (media_final < 6)\n",
    "\n",
    "print(f'foi pra recuperação? {foi_pra_recuperacao}')"
   ]
  },
  {
   "cell_type": "markdown",
   "metadata": {},
   "source": [
    "### Condicionais em uma única linha"
   ]
  },
  {
   "cell_type": "code",
   "execution_count": 21,
   "metadata": {},
   "outputs": [
    {
     "name": "stdout",
     "output_type": "stream",
     "text": [
      "Status: Reprovado\n"
     ]
    }
   ],
   "source": [
    "# ternario\n",
    "\n",
    "# reprovado < 6.0\n",
    "# aprovado >= 6\n",
    "\n",
    "media_final = 3.0\n",
    "\n",
    "status = 'Reprovado' if media_final < 6.0 else 'Aprovado'\n",
    "\n",
    "## mesmo que esse abaixo \n",
    "#if media_final < 6.0:\n",
    "#    status = 'Reprovado'\n",
    "#else:\n",
    "#    status = 'Aprovado'\n",
    "\n",
    "\n",
    "print(f'Status: {status}')\n",
    "\n"
   ]
  }
 ],
 "metadata": {
  "kernelspec": {
   "display_name": "Python 3",
   "language": "python",
   "name": "python3"
  },
  "language_info": {
   "codemirror_mode": {
    "name": "ipython",
    "version": 3
   },
   "file_extension": ".py",
   "mimetype": "text/x-python",
   "name": "python",
   "nbconvert_exporter": "python",
   "pygments_lexer": "ipython3",
   "version": "3.11.4"
  }
 },
 "nbformat": 4,
 "nbformat_minor": 4
}
